{
 "cells": [
  {
   "cell_type": "markdown",
   "metadata": {},
   "source": [
    "# Empirical Comparaison of Dyna and Actor Critic"
   ]
  },
  {
   "cell_type": "code",
   "execution_count": 1,
   "metadata": {
    "collapsed": true
   },
   "outputs": [],
   "source": [
    "import matplotlib\n",
    "%matplotlib inline\n",
    "\n",
    "import gym\n",
    "import itertools\n",
    "import matplotlib.pyplot as plt\n",
    "import numpy as np\n",
    "import pandas as pd\n",
    "import sys\n",
    "import sklearn.pipeline\n",
    "import sklearn.preprocessing\n",
    "import pdb\n",
    "\n",
    "from heapq import *\n",
    "from sklearn.kernel_approximation import RBFSampler"
   ]
  },
  {
   "cell_type": "code",
   "execution_count": 2,
   "metadata": {
    "collapsed": false
   },
   "outputs": [
    {
     "name": "stderr",
     "output_type": "stream",
     "text": [
      "[2017-03-23 22:31:48,649] Making new env: MountainCar-v0\n"
     ]
    },
    {
     "data": {
      "text/plain": [
       "FeatureUnion(n_jobs=1,\n",
       "       transformer_list=[('rbf1', RBFSampler(gamma=5.0, n_components=10, random_state=None)), ('rbf2', RBFSampler(gamma=2.0, n_components=10, random_state=None)), ('rbf3', RBFSampler(gamma=1.0, n_components=10, random_state=None)), ('rbf4', RBFSampler(gamma=0.5, n_components=10, random_state=None))],\n",
       "       transformer_weights=None)"
      ]
     },
     "execution_count": 2,
     "metadata": {},
     "output_type": "execute_result"
    }
   ],
   "source": [
    "#env = gym.envs.make(\"CartPole-v1\")\n",
    "env = gym.envs.make(\"MountainCar-v0\")\n",
    "\n",
    "# based on https://github.com/dennybritz/reinforcement-learning/blob/master/FA/Q-Learning%20with%20Value%20Function%20Approximation%20Solution.ipynb\n",
    "\n",
    "observation_examples = np.array([env.observation_space.sample() for x in range(10000)])\n",
    "scaler = sklearn.preprocessing.StandardScaler()\n",
    "scaler.fit(observation_examples)\n",
    "\n",
    "n_components = 10\n",
    "\n",
    "featurizer = sklearn.pipeline.FeatureUnion([\n",
    "        (\"rbf1\", RBFSampler(gamma=5.0, n_components=n_components)),\n",
    "        (\"rbf2\", RBFSampler(gamma=2.0, n_components=n_components)),\n",
    "        (\"rbf3\", RBFSampler(gamma=1.0, n_components=n_components)),\n",
    "        (\"rbf4\", RBFSampler(gamma=0.5, n_components=n_components))\n",
    "        ])\n",
    "featurizer.fit(scaler.transform(observation_examples))\n"
   ]
  },
  {
   "cell_type": "code",
   "execution_count": 3,
   "metadata": {
    "collapsed": true
   },
   "outputs": [],
   "source": [
    "def featurize_state(state):\n",
    "    scaled = scaler.transform([state])\n",
    "    featurized = featurizer.transform(scaled)\n",
    "    return featurized[0].reshape(n_components*4,1)\n",
    "\n",
    "def getTDerror(r, gamma, theta, phi, phi1):    \n",
    "    delta = r+gamma*np.dot(theta.T,phi1)-np.dot(theta.T,phi)\n",
    "    return delta\n",
    "    \n",
    "def policy_prob(phi, weights, theta, epsilon=0.1, nA=3):\n",
    "    prob = np.ones(nA) * epsilon / (nA-1)\n",
    "    values = np.array([np.dot(b.T, phi)+gamma*np.dot(theta.T, np.dot(F, phi)) for b,F in weights])\n",
    "    idx = np.argmax(values)\n",
    "    prob[idx] = 1-epsilon\n",
    "    return prob"
   ]
  },
  {
   "cell_type": "markdown",
   "metadata": {},
   "source": [
    "# Linear Dyna for Control\n",
    "\n",
    "* We learn the model dynamics $(F_a, b_a)$ following action $a$ at the same time as the weights $\\theta$ of the linear value function. \n",
    "* The algorithm then goes through a sequence of $p$ planning steps.\n",
    "    * Starting from a sample observed feature vector $\\phi$, a reward $r$ following action $a$\n",
    "    * It generates a transition ($\\phi'$ and $r'$) and do conventional updates.\n"
   ]
  },
  {
   "cell_type": "code",
   "execution_count": 41,
   "metadata": {
    "collapsed": false
   },
   "outputs": [
    {
     "name": "stdout",
     "output_type": "stream",
     "text": [
      "Done\n"
     ]
    }
   ],
   "source": [
    "theta = np.zeros((n_components*4,1))\n",
    "\n",
    "weights = []\n",
    "for _ in range(env.action_space.n):\n",
    "    F = np.zeros((4*n_components,4*n_components))\n",
    "    b = np.zeros((4*n_components,1))\n",
    "    weights.append([b, F])\n",
    "\n",
    "\n",
    "gamma = 0.99\n",
    "p_times = 5\n",
    "alpha_0 = 0.001\n",
    "nb_episodes = 250\n",
    "\n",
    "rewards_DYNA = np.zeros(nb_episodes)\n",
    "pred_errors = np.zeros(nb_episodes)\n",
    "steps_tot = 0\n",
    "alpha= alpha_0\n",
    "for episode in range(nb_episodes):\n",
    "    s = env.reset()\n",
    "    phi = featurize_state(s)\n",
    "\n",
    "    for steps in itertools.count():\n",
    "        steps_tot += 1\n",
    "        #alpha = alpha_0*(steps_tot+1)/(steps_tot+(episode+1)**1.1)\n",
    "        action_probs = policy_prob(phi, weights, theta, epsilon=0.1, nA=env.action_space.n)\n",
    "        a = np.random.choice(range(len(action_probs)), p=action_probs)\n",
    " \n",
    "        s1,r,done,_ = env.step(a)\n",
    "        phi1 = featurize_state(s1)\n",
    "        rewards_DYNA[episode] += r\n",
    "        \n",
    "        if done:\n",
    "            phi1 *= 0\n",
    "        \n",
    "        delta = r+gamma*np.dot(phi1.T, theta) - np.dot(phi.T, theta) # TD error\n",
    "        theta += alpha*delta*phi # theta\n",
    "\n",
    "        pred_error = (phi1-np.dot(weights[a][1], phi))\n",
    "        pred_errors[episode] += np.sum(pred_error**2)\n",
    "        weights[a][1] += alpha*np.dot(pred_error,phi.T) # F\n",
    "        weights[a][0] += alpha*(r-np.dot(weights[a][0].T, phi))*phi # b\n",
    "        \n",
    "        if done: \n",
    "            break\n",
    "\n",
    "        h = []\n",
    "        for i in np.where(phi!=0)[0]:     \n",
    "            heappush(h, (-np.abs(phi[i]*gamma), i))\n",
    "            \n",
    "        for p in range(p_times):  \n",
    "            i = heappop(h)[1]\n",
    "\n",
    "            idx = np.asarray(np.where(weights[0][1][i,]!=0))\n",
    "            idx1 = np.asarray(np.where(weights[1][1][i,]!=0))\n",
    "            idx_unique = np.unique(np.concatenate([idx, idx1],axis=1))\n",
    "            #values = np.zeros((40,3))\n",
    "            for j in idx_unique:\n",
    "                e = np.zeros(4*n_components)\n",
    "                e[j] = 1\n",
    "                values = np.array([b+gamma*np.dot(theta.T, F).T for b, F in weights])\n",
    "\n",
    "                delta = np.max(values[:,j,:]-theta[j])\n",
    "                \n",
    "                theta[j] += alpha*delta\n",
    "            \n",
    "                heappush(h, (-np.abs(gamma), j))\n",
    "\n",
    "        phi = phi1\n",
    "    alpha *= 0.95\n",
    "        \n",
    "print \"Done\""
   ]
  },
  {
   "cell_type": "code",
   "execution_count": 44,
   "metadata": {
    "collapsed": false
   },
   "outputs": [
    {
     "name": "stdout",
     "output_type": "stream",
     "text": [
      "Done\n"
     ]
    }
   ],
   "source": [
    "theta = np.zeros((n_components*4,1))\n",
    "\n",
    "weights = []\n",
    "for _ in range(env.action_space.n):\n",
    "    F = np.zeros((4*n_components,4*n_components))\n",
    "    b = np.zeros((4*n_components,1))\n",
    "    weights.append([b, F])\n",
    "\n",
    "\n",
    "gamma = 0.99\n",
    "p_times = 5\n",
    "alpha_0 = 0.001#25\n",
    "nb_episodes = 250\n",
    "\n",
    "rewards_DYNA = np.zeros(nb_episodes)\n",
    "pred_errors = np.zeros(nb_episodes)\n",
    "steps_tot = 0\n",
    "alpha= alpha_0\n",
    "\n",
    "\n",
    "for episode in range(nb_episodes):\n",
    "    s = env.reset()\n",
    "    phi = featurize_state(s)\n",
    "\n",
    "    for steps in itertools.count():\n",
    "        #alpha = alpha_0*(steps+1)/(steps+(episode+1)**1.1)\n",
    "        action_probs = policy_prob(phi, weights, theta, epsilon=0.1, nA=env.action_space.n)\n",
    "        a = np.random.choice(range(len(action_probs)), p=action_probs)\n",
    " \n",
    "        s1,r,done,_ = env.step(a)\n",
    "        phi1 = featurize_state(s1)\n",
    "        rewards_DYNA[episode] += r\n",
    "        \n",
    "        if done:\n",
    "            phi1 *= 0\n",
    "        \n",
    "        delta = r+gamma*np.dot(phi1.T, theta) - np.dot(phi.T, theta) # TD error\n",
    "        theta += alpha*delta*phi # theta\n",
    "\n",
    "        pred_error = (phi1-np.dot(weights[a][1], phi))\n",
    "        pred_errors[episode] += np.sum(pred_error**2)\n",
    "        weights[a][1] += alpha*np.dot(pred_error,phi.T) # F\n",
    "        weights[a][0] += alpha*(r-np.dot(weights[a][0].T, phi))*phi # b\n",
    "        \n",
    "        if done: \n",
    "            break\n",
    "\n",
    "\n",
    "        for p in range(p_times):\n",
    "            s_sample = observation_examples[np.random.randint(0,10000),]\n",
    "            phi_sample = featurize_state(s_sample)\n",
    "            action_probs = policy_prob(phi_sample, weights, theta, epsilon=0.1, nA=env.action_space.n)\n",
    "            a = np.random.choice(range(len(action_probs)), p=action_probs)\n",
    "            phi_sim = np.dot(weights[a][1], phi_sample)\n",
    "            r_sim = np.dot(weights[a][0].T, phi_sample)\n",
    "            \n",
    "            delta = r_sim+gamma*np.dot(phi_sim.T, theta) - np.dot(phi_sample.T, theta) # TD error\n",
    "            theta += alpha*delta*phi_sample # theta\n",
    "\n",
    "        phi = phi1\n",
    "        \n",
    "print \"Done\""
   ]
  },
  {
   "cell_type": "markdown",
   "metadata": {},
   "source": [
    "# One-step Actor Critic (AC)\n",
    "\n",
    "* AC is a policy gradient method i.e. it estimates the probability over actions in a given state.\n",
    "* The actor is the action value estimate and the critic the state value estimate.\n",
    "* After each action, the critic evaluates if things have gone better or worst than expected (TD error). If the TD error is positive, we increase the probability of the critic of taking this action in the future. "
   ]
  },
  {
   "cell_type": "code",
   "execution_count": 5,
   "metadata": {
    "collapsed": true
   },
   "outputs": [],
   "source": [
    "def featurize_state_tf(state):\n",
    "    scaled = scaler.transform([state])\n",
    "    featurized = featurizer.transform(scaled)\n",
    "    return featurized[0].reshape(1, n_components*4)"
   ]
  },
  {
   "cell_type": "code",
   "execution_count": 6,
   "metadata": {
    "collapsed": false
   },
   "outputs": [],
   "source": [
    "import tensorflow as tf\n",
    "\n",
    "class policyNetwork():\n",
    "    def __init__(self):\n",
    "        self.inputs = tf.placeholder(dtype=tf.float32,shape=(None,4*n_components))\n",
    "        self.action = tf.placeholder(dtype=tf.int32)\n",
    "        self.target = tf.placeholder(dtype=tf.float32)\n",
    "        self.W1 = tf.get_variable(\"W1_policy\",shape=[4*n_components, env.action_space.n],\n",
    "           initializer=tf.contrib.layers.xavier_initializer())\n",
    "        \n",
    "        self.h1 = tf.matmul(self.inputs,self.W1)\n",
    "\n",
    "        self.action_probs = tf.squeeze(tf.nn.softmax(self.h1))\n",
    "        self.action_picked_probs = tf.gather(self.action_probs, self.action)\n",
    "        self.loss = -tf.log(self.action_picked_probs) * self.target\n",
    "        \n",
    "        self.optimizer = tf.train.AdamOptimizer(learning_rate=0.01)\n",
    "        \n",
    "        self.train_op = self.optimizer.minimize(\n",
    "                self.loss, global_step=tf.contrib.framework.get_global_step())\n",
    "             \n",
    "    def predict(self, state):\n",
    "        #sess = tf.get_default_session()\n",
    "        return sess.run(self.action_probs, {self.inputs: state})\n",
    "    \n",
    "    def update(self, state, action, target):\n",
    "        #sess = tf.get_default_session()\n",
    "        feed_dict = {self.inputs:state, self.target:target , self.action:action}\n",
    "        _,loss = sess.run([self.train_op, self.loss], feed_dict)\n",
    "        return loss\n",
    "    \n",
    "class valueNetwork():\n",
    "    def __init__(self):\n",
    "        self.inputs = tf.placeholder(dtype=tf.float32,shape=(None,4*n_components))\n",
    "        self.target = tf.placeholder(dtype=tf.float32)\n",
    "        self.W1 = tf.get_variable(\"W1_value\", shape=[4*n_components, 1],\n",
    "           initializer=tf.contrib.layers.xavier_initializer())\n",
    "        \n",
    "        self.h1 = tf.matmul(self.inputs,self.W1)\n",
    "\n",
    "        self.value_estimate = tf.squeeze(self.h1)\n",
    "\n",
    "        self.loss = tf.squared_difference(self.value_estimate, self.target)\n",
    "        \n",
    "        self.optimizer = tf.train.AdamOptimizer(learning_rate=0.01)\n",
    "        \n",
    "        self.train_op = self.optimizer.minimize(\n",
    "                self.loss, global_step=tf.contrib.framework.get_global_step())\n",
    "    \n",
    "    def predict(self, state):\n",
    "        return sess.run(self.value_estimate, {self.inputs: state})\n",
    "    \n",
    "    def update(self,state,target):\n",
    "        feed_dict = {self.inputs:state, self.target:target}\n",
    "        _,loss = sess.run([self.train_op, self.loss], feed_dict)\n",
    "        return loss"
   ]
  },
  {
   "cell_type": "code",
   "execution_count": 7,
   "metadata": {
    "collapsed": false,
    "scrolled": false
   },
   "outputs": [
    {
     "name": "stderr",
     "output_type": "stream",
     "text": [
      "/usr/local/lib/python2.7/site-packages/tensorflow/python/ops/gradients.py:90: UserWarning: Converting sparse IndexedSlices to a dense Tensor of unknown shape. This may consume a large amount of memory.\n",
      "  \"Converting sparse IndexedSlices to a dense Tensor of unknown shape. \"\n"
     ]
    },
    {
     "name": "stdout",
     "output_type": "stream",
     "text": [
      "Done\n"
     ]
    }
   ],
   "source": [
    "tf.reset_default_graph()\n",
    "\n",
    "\n",
    "value_net = valueNetwork()\n",
    "policy_net = policyNetwork()\n",
    "\n",
    "rewards_AC = np.zeros(nb_episodes)\n",
    "\n",
    "with tf.Session() as sess:\n",
    "    sess.run(tf.initialize_all_variables())\n",
    "    for episode in range(nb_episodes):\n",
    "        s = env.reset()\n",
    "        phi = featurize_state_tf(s)\n",
    "        I = 1\n",
    "        for steps in itertools.count():\n",
    "            action_probs = policy_net.predict(phi)\n",
    "            a = np.random.choice(range(len(action_probs)), p=action_probs)\n",
    "        \n",
    "            s1,r,done,_ = env.step(a)\n",
    "            phi1 = featurize_state_tf(s1)\n",
    "            rewards_AC[episode] += r\n",
    "        \n",
    "            if done:\n",
    "                phi1 *= 0\n",
    "        \n",
    "            target = r+gamma*value_net.predict(phi1)\n",
    "            delta = target-value_net.predict(phi)\n",
    "            policy_net.update(phi,a,delta)\n",
    "            value_net.update(phi,target)\n",
    "            \n",
    "            if done: \n",
    "                break\n",
    "                \n",
    "            I *= gamma\n",
    "            phi = phi1\n",
    "            \n",
    "print \"Done\""
   ]
  },
  {
   "cell_type": "code",
   "execution_count": 45,
   "metadata": {
    "collapsed": false
   },
   "outputs": [
    {
     "data": {
      "image/png": "[encoded data removed]",
      "text/plain": [
       "<matplotlib.figure.Figure at 0x11530f6d0>"
      ]
     },
     "metadata": {},
     "output_type": "display_data"
    }
   ],
   "source": [
    "fig = plt.figure(figsize=(20, 10))\n",
    "\n",
    "AC, = plt.plot(pd.rolling_mean(rewards_AC,25), label=\"AC\")\n",
    "DYNA, = plt.plot(pd.rolling_mean(rewards_DYNA,25), label=\"Dyna\")\n",
    "\n",
    "plt.title(\"Rewards over time\", fontsize=50)\n",
    "ax = fig.add_subplot(111)\n",
    "ax.set_xlabel('Iteration',fontsize = 20)\n",
    "ax.set_ylabel('Rewards', fontsize = 20)\n",
    "\n",
    "plt.legend(handles=[AC, DYNA])\n",
    "plt.show()"
   ]
  },
  {
   "cell_type": "code",
   "execution_count": null,
   "metadata": {
    "collapsed": true
   },
   "outputs": [],
   "source": []
  },
  {
   "cell_type": "code",
   "execution_count": null,
   "metadata": {
    "collapsed": true
   },
   "outputs": [],
   "source": []
  }
 ],
 "metadata": {
  "kernelspec": {
   "display_name": "Python 2",
   "language": "python",
   "name": "python2"
  },
  "language_info": {
   "codemirror_mode": {
    "name": "ipython",
    "version": 2
   },
   "file_extension": ".py",
   "mimetype": "text/x-python",
   "name": "python",
   "nbconvert_exporter": "python",
   "pygments_lexer": "ipython2",
   "version": "2.7.13"
  }
 },
 "nbformat": 4,
 "nbformat_minor": 0
}
